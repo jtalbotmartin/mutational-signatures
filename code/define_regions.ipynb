{
 "cells": [
  {
   "cell_type": "markdown",
   "metadata": {},
   "source": [
    "- using mane file as a reference, generate csvs of genomic co-ordinates for BRCA1 and BRCA2, for intronic, promoter, 5'UTR and 3'UTR regions\n",
    "  - turned mane file into csv\n",
    "  - in excel, deleted all redundant fields for my purposes\n",
    "  - in terminal, grep mane file using transcript id, directing output to a csv file\n",
    "  - loop over new csv file, adding each exonic co-ordinate to a list (after manipulation of +-1 in order to account for intronic region)\n",
    "  - discard first and last element of co-ordinate list (since intronic regions won't exist between either of these co-ordinates)\n",
    "  - loop over list of co-ordinates, creating a 5' and 3' list of co-ordinates (5' are odd indexes, 3' are even)\n",
    "  - loop over this list, writing to the csv with the chromosome and co-ordinates of intronic region\n",
    "  - define promoter regions using ucsc browser (zoom into encode regions and see from there)\n",
    "  - in excel (or other), sort by ascending co-ordinates\n",
    "  - stripped out start and stop codons, and transcript entries"
   ]
  },
  {
   "cell_type": "code",
   "execution_count": 1,
   "metadata": {},
   "outputs": [],
   "source": [
    "import pandas as pd\n",
    "import csv"
   ]
  },
  {
   "cell_type": "code",
   "execution_count": 27,
   "metadata": {},
   "outputs": [],
   "source": [
    "source_file = \"\"\n",
    "destination_file = \"\"\n",
    "chromosome = \"\""
   ]
  },
  {
   "cell_type": "code",
   "execution_count": 2,
   "metadata": {},
   "outputs": [],
   "source": [
    "# !grep 'ENST00000357654.9' '/Users/jonathan/Code/mutational-signatures/data /mane/MANE.GRCh38.v1.0.ensembl_genomic.gff' > brca1_regions.csv"
   ]
  },
  {
   "cell_type": "code",
   "execution_count": 29,
   "metadata": {},
   "outputs": [],
   "source": [
    "with open(f\"{destination_file}\", newline='') as f:\n",
    "    reader = csv.reader(f)\n",
    "    data = list(reader)"
   ]
  },
  {
   "cell_type": "code",
   "execution_count": 30,
   "metadata": {},
   "outputs": [],
   "source": [
    "intron_coords = []\n",
    "\n",
    "for line in data:\n",
    "    if line[3] == \"exon\":\n",
    "        intron_coords.append(int(line[1])-1) #manipulation to define intronic co-ordinates\n",
    "        intron_coords.append(int(line[2])+1)\n",
    "\n",
    "intron_coords = intron_coords[1:-1]"
   ]
  },
  {
   "cell_type": "code",
   "execution_count": 31,
   "metadata": {},
   "outputs": [
    {
     "name": "stdout",
     "output_type": "stream",
     "text": [
      "[32315668, 32316528, 32319326, 32325185, 32326151, 32326283, 32326614, 32329493, 32331031, 32333388, 32341197, 32344654, 32346897, 32355289, 32356610, 32357930, 32362694, 32363534, 32370558, 32371101, 32376792, 32379516, 32379914, 32380146, 32394934, 32397045] [32316421, 32319076, 32325075, 32326100, 32326241, 32326498, 32329442, 32330918, 32332271, 32336264, 32344557, 32346826, 32354860, 32356427, 32357741, 32362522, 32363178, 32370401, 32370955, 32376669, 32379316, 32379749, 32380006, 32394688, 32396897, 32398161]\n"
     ]
    }
   ],
   "source": [
    "three_prime_coords = (intron_coords[::2])\n",
    "five_prime_coords = (intron_coords[1::2])"
   ]
  },
  {
   "cell_type": "code",
   "execution_count": 33,
   "metadata": {},
   "outputs": [],
   "source": [
    "for n in range(len(three_prime_coords)): #to get length of loop - 3' and 5' are equal in length\n",
    "    three_prime = three_prime_coords[n]\n",
    "    five_prime = five_prime_coords[n]\n",
    "\n",
    "    with open(f\"{destination_file}\", \"a\") as f:\n",
    "        f.write(f\"{chromosome},{three_prime},{five_prime},intron\\n\")"
   ]
  }
 ],
 "metadata": {
  "kernelspec": {
   "display_name": "Python 3.9.6 64-bit",
   "language": "python",
   "name": "python3"
  },
  "language_info": {
   "codemirror_mode": {
    "name": "ipython",
    "version": 3
   },
   "file_extension": ".py",
   "mimetype": "text/x-python",
   "name": "python",
   "nbconvert_exporter": "python",
   "pygments_lexer": "ipython3",
   "version": "3.9.6"
  },
  "orig_nbformat": 4,
  "vscode": {
   "interpreter": {
    "hash": "31f2aee4e71d21fbe5cf8b01ff0e069b9275f58929596ceb00d14d90e3e16cd6"
   }
  }
 },
 "nbformat": 4,
 "nbformat_minor": 2
}
